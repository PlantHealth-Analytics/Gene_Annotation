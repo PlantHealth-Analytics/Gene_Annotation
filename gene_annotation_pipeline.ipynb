{
  "cells": [
    {
      "cell_type": "markdown",
      "metadata": {
        "id": "32vuvhjzzAkY"
      },
      "source": [
        "# Genome annotation\n",
        "Genome annotation is essential for understanding an organism's genetic blueprint, divided into two main processes: structural and functional annotation. Structural annotation identifies the locations of genes and genomic elements like coding regions, exons, and regulatory sequences, providing a map of the genome's architecture. Functional annotation assigns roles to these genes, linking them to biological processes, protein functions, and pathways. Together, these approaches offer a comprehensive view, crucial for research on complex pathogen-host interactions, as in phytoplasma studies, where understanding both gene locations and functions is key to advancing diagnostics and disease management."
      ]
    },
    {
      "cell_type": "code",
      "execution_count": null,
      "metadata": {
        "id": "CWfMHc9hyA6b"
      },
      "outputs": [],
      "source": [
        "# @title\n",
        "!wget https://repo.anaconda.com/miniconda/Miniconda3-latest-Linux-x86_64.sh\n",
        "!chmod +x Miniconda3-latest-Linux-x86_64.sh\n",
        "!bash ./Miniconda3-latest-Linux-x86_64.sh -b -f -p /usr/local\n",
        "import sys\n",
        "sys.path.append('/usr/local/lib/python3.7/site-packages/')\n",
        "!conda config --add channels defaults\n",
        "!conda config --add channels bioconda\n",
        "!conda config --add channels conda-forge"
      ]
    },
    {
      "cell_type": "code",
      "source": [
        "!conda install bioconda::repeatmodeler -y"
      ],
      "metadata": {
        "id": "-_XPZ6k1EoiV"
      },
      "execution_count": null,
      "outputs": []
    },
    {
      "cell_type": "code",
      "source": [
        "!conda install bioconda::repeatmasker -y"
      ],
      "metadata": {
        "id": "Q8xfcMy6Fe30"
      },
      "execution_count": null,
      "outputs": []
    },
    {
      "cell_type": "markdown",
      "metadata": {
        "id": "auJze5y00VZN"
      },
      "source": [
        "# Genome Annotation: Tailoring Approaches for Prokaryotes and Eukaryotes\n",
        "\n",
        "Annotation approaches vary based on the type of organism, with specific gene models suited to either prokaryotic or eukaryotic genomes. For prokaryotes, specialized annotation tools are essential to capture their unique genomic features, such as densely packed genes and operons, which differ significantly from the complex structures found in eukaryotic genomes. Certain annotators are designed exclusively for prokaryotic genomes and SHOULD NOT be used for eukaryotes, as they lack the capacity to handle introns and the intricate regulatory regions characteristic of eukaryotic genes. Choosing the right annotation tool is crucial for accurate genome analysis and meaningful biological insights."
      ]
    },
    {
      "cell_type": "markdown",
      "metadata": {
        "id": "6G6KhkR70ftC"
      },
      "source": [
        "**Lets annotate a prokaryote genome - Prokka**\n",
        "\n",
        "Prokka only handles prokaryotic genomes!!"
      ]
    },
    {
      "cell_type": "markdown",
      "source": [
        "Install ncbi-datasets to fetch genomes form Genbank"
      ],
      "metadata": {
        "id": "7rd9VFtFWzDJ"
      }
    },
    {
      "cell_type": "code",
      "source": [
        "!conda install conda-forge::ncbi-datasets-cli -y"
      ],
      "metadata": {
        "id": "m7q83YI-Zy6e"
      },
      "execution_count": null,
      "outputs": []
    },
    {
      "cell_type": "markdown",
      "source": [
        "Download a Xanthomonas oryzae genome. Unzip the file, create a new folder named \"genomes,\" and move the FASTA file containing the genome to the \"genomes\" folder."
      ],
      "metadata": {
        "id": "4I0fW_XbW8DE"
      }
    },
    {
      "cell_type": "code",
      "source": [
        "!datasets download genome accession GCF_004355885.3 --include genome,seq-report\n",
        "!unzip ncbi_dataset.zip\n",
        "!mkdir genomes\n",
        "!mv ncbi_dataset/data/GCF_004355885.3/*.fna genomes/"
      ],
      "metadata": {
        "id": "rhiJlc2wN_Oq"
      },
      "execution_count": null,
      "outputs": []
    },
    {
      "cell_type": "markdown",
      "source": [
        "Install prokka tool"
      ],
      "metadata": {
        "id": "aIlaK_P0XXuA"
      }
    },
    {
      "cell_type": "code",
      "execution_count": null,
      "metadata": {
        "id": "-aqzz1W7x2QP"
      },
      "outputs": [],
      "source": [
        "!conda install -c bioconda prokka -y"
      ]
    },
    {
      "cell_type": "markdown",
      "metadata": {
        "id": "vennVupwzjpe"
      },
      "source": [
        "Run prokka to annotate the Xathomonas oryzae genome"
      ]
    },
    {
      "cell_type": "code",
      "execution_count": null,
      "metadata": {
        "id": "fZ9KhFPaxyS-"
      },
      "outputs": [],
      "source": [
        "!prokka --locustag xoo --outdir prokka_results genomes/GCF_004355885.3_ASM435588v3_genomic.fna"
      ]
    },
    {
      "cell_type": "markdown",
      "source": [
        "Your results will be saved in prokka_results. This folder contains sevreal files with the gene predictions, protein sequences, funational annotation , genbank file, anf gff file."
      ],
      "metadata": {
        "id": "PcP0hOSPXjZw"
      }
    },
    {
      "cell_type": "markdown",
      "metadata": {
        "id": "1gQrM4wQy9l-"
      },
      "source": [
        "**Lets annotatte a Eukaryte genome - Augutus**\n",
        "\n",
        "Augustus is an annotator that can handle both eukaryotic and prokaryotic genomes"
      ]
    },
    {
      "cell_type": "markdown",
      "source": [
        "Download a fungal genome, Fusarium oxysporum. Unzip the file, create a new folder named \"genomes,\" and move the FASTA file containing the genome to the \"genomes\" folder."
      ],
      "metadata": {
        "id": "_-16TSaaYBhx"
      }
    },
    {
      "cell_type": "code",
      "source": [
        "!datasets download genome accession GCA_013085055.1 --include genome,seq-report"
      ],
      "metadata": {
        "id": "BJJyySrbdD5a"
      },
      "execution_count": null,
      "outputs": []
    },
    {
      "cell_type": "code",
      "source": [
        "!unzip -o ncbi_dataset.zip"
      ],
      "metadata": {
        "id": "OBnV_AtDdUg0"
      },
      "execution_count": null,
      "outputs": []
    },
    {
      "cell_type": "code",
      "source": [
        "!cp ncbi_dataset/data/GCA_013085055.1/*.fna genomes/"
      ],
      "metadata": {
        "id": "HL4KNByTdbMa"
      },
      "execution_count": null,
      "outputs": []
    },
    {
      "cell_type": "markdown",
      "source": [
        "Eukaryotic genomes often contain a significant proportion of repetitive sequences, which can introduce bias and inaccuracies during gene annotation. To address this, it is critical to mask repetitive elements prior to annotation, as these repeats can lead to the misidentification of genes or inflate gene counts.\n",
        "\n",
        "In our analysis, we will first run RepeatFinder to identify and mask repetitive regions in the genome. The masked genome will then be subjected to annotation. To assess the impact of repeat masking on the annotation process, we will also annotate the unmasked genome and compare the results. This comparative approach will allow us to identify any differences in gene prediction caused by repetitive elements and evaluate the necessity and effectiveness of repeat masking in our workflow."
      ],
      "metadata": {
        "id": "YRwcaIkQ1GxO"
      }
    },
    {
      "cell_type": "markdown",
      "source": [
        "First lets create a new library of repeats in your genome. We use RepeatModeler"
      ],
      "metadata": {
        "id": "HP2qxyYd2IhQ"
      }
    },
    {
      "cell_type": "code",
      "source": [
        "!BuildDatabase -name GCA_013085055 genomes/GCA_013085055.1_ASM1308505v1_genomic.fna\n",
        "!RepeatModeler -database GCA_013085055"
      ],
      "metadata": {
        "id": "IXIeDPDbFrGi"
      },
      "execution_count": null,
      "outputs": []
    },
    {
      "cell_type": "markdown",
      "source": [
        "The output of RepeatModeler includes a newly generated library of repetitive elements, which can be found in a directory with the naming pattern RM_*/consensi.fa.classified. Replace the * in the folder name with the actual directory name generated by RepeatModeler in your specific run. Use this updated path in the code provided below to ensure accurate references to the repeat library.\n",
        "\n",
        "Now lets run RepeatMasker to mask the repeats"
      ],
      "metadata": {
        "id": "fGL6tC1s1rxW"
      }
    },
    {
      "cell_type": "code",
      "source": [
        "!RepeatMasker -gff -lib RM_*/consensi.fa.classified genomes/GCA_013085055.1_ASM1308505v1_genomic.fna"
      ],
      "metadata": {
        "id": "fR5mv_W8l0JD"
      },
      "execution_count": null,
      "outputs": []
    },
    {
      "cell_type": "markdown",
      "source": [
        "Install Augutus annotation tool"
      ],
      "metadata": {
        "id": "PMJ3nNaEYvar"
      }
    },
    {
      "cell_type": "code",
      "execution_count": null,
      "metadata": {
        "id": "-FoIHdtRngrB"
      },
      "outputs": [],
      "source": [
        "!apt-get update\n",
        "!apt-get install augustus"
      ]
    },
    {
      "cell_type": "markdown",
      "source": [
        "Run Augutus"
      ],
      "metadata": {
        "id": "bF2PdfBjYytq"
      }
    },
    {
      "cell_type": "markdown",
      "source": [
        "Run Augustus in the unmasked genome"
      ],
      "metadata": {
        "id": "idqQHIAQ2dpJ"
      }
    },
    {
      "cell_type": "code",
      "execution_count": null,
      "metadata": {
        "id": "QmPLpy0CnzKF"
      },
      "outputs": [],
      "source": [
        "!augustus --species=fusarium --codingseq=on --protein=on genomes/GCA_013085055.1_ASM1308505v1_genomic.fna > augutus_annot.gff"
      ]
    },
    {
      "cell_type": "markdown",
      "source": [
        "Run Augustus in the masked genome"
      ],
      "metadata": {
        "id": "3Njp3c_x2gb3"
      }
    },
    {
      "cell_type": "code",
      "source": [
        "!augustus --species=fusarium --codingseq=on --protein=on genomes/GCA_013085055.1_ASM1308505v1_genomic.fna.masked > augutus_annot_masked.gff"
      ],
      "metadata": {
        "id": "La2dgQjR0E-j"
      },
      "execution_count": null,
      "outputs": []
    },
    {
      "cell_type": "markdown",
      "source": [
        "Augutus will produce a gff file that contain sthe structurla annotation. This gff file cna be use to extrcta the gene and protein sequences."
      ],
      "metadata": {
        "id": "sfuphDBCY1E1"
      }
    },
    {
      "cell_type": "code",
      "execution_count": null,
      "metadata": {
        "id": "L14oU-d6GJG3"
      },
      "outputs": [],
      "source": [
        "!perl /usr/share/augustus/scripts/getAnnoFasta.pl augutus_annot.gff\n",
        "!perl /usr/share/augustus/scripts/getAnnoFasta.pl augutus_annot_masked.gff"
      ]
    },
    {
      "cell_type": "markdown",
      "source": [
        "Check the number of protein and genes and compare"
      ],
      "metadata": {
        "id": "QfgsNSN7Y-5c"
      }
    },
    {
      "cell_type": "code",
      "execution_count": null,
      "metadata": {
        "id": "AQOOvqfx_l_u"
      },
      "outputs": [],
      "source": [
        "!grep -c '>' augutus_annot.aa\n",
        "!grep -c '>'augutus_annot.codingseq\n",
        "!grep -c '>' augutus_annot_masked.aa\n",
        "!grep -c '>'augutus_annot_maskedt.codingseq"
      ]
    }
  ],
  "metadata": {
    "colab": {
      "provenance": []
    },
    "kernelspec": {
      "display_name": "Python 3 (ipykernel)",
      "language": "python",
      "name": "python3"
    },
    "language_info": {
      "codemirror_mode": {
        "name": "ipython",
        "version": 3
      },
      "file_extension": ".py",
      "mimetype": "text/x-python",
      "name": "python",
      "nbconvert_exporter": "python",
      "pygments_lexer": "ipython3",
      "version": "3.9.15"
    }
  },
  "nbformat": 4,
  "nbformat_minor": 0
}