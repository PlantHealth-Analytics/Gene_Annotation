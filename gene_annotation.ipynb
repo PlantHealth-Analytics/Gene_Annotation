{
  "cells": [
    {
      "cell_type": "markdown",
      "metadata": {
        "id": "32vuvhjzzAkY"
      },
      "source": [
        "# Genome annotation\n",
        "Genome annotation is essential for understanding an organism's genetic blueprint, divided into two main processes: structural and functional annotation. Structural annotation identifies the locations of genes and genomic elements like coding regions, exons, and regulatory sequences, providing a map of the genome's architecture. Functional annotation assigns roles to these genes, linking them to biological processes, protein functions, and pathways. Together, these approaches offer a comprehensive view, crucial for research on complex pathogen-host interactions, as in phytoplasma studies, where understanding both gene locations and functions is key to advancing diagnostics and disease management."
      ]
    },
    {
      "cell_type": "code",
      "execution_count": null,
      "metadata": {
        "id": "CWfMHc9hyA6b"
      },
      "outputs": [],
      "source": [
        "# @title\n",
        "!wget https://repo.anaconda.com/miniconda/Miniconda3-latest-Linux-x86_64.sh\n",
        "!chmod +x Miniconda3-latest-Linux-x86_64.sh\n",
        "!bash ./Miniconda3-latest-Linux-x86_64.sh -b -f -p /usr/local\n",
        "import sys\n",
        "sys.path.append('/usr/local/lib/python3.7/site-packages/')\n",
        "!conda config --add channels defaults\n",
        "!conda config --add channels bioconda\n",
        "!conda config --add channels conda-forge"
      ]
    },
    {
      "cell_type": "markdown",
      "metadata": {
        "id": "auJze5y00VZN"
      },
      "source": [
        "# Genome Annotation: Tailoring Approaches for Prokaryotes and Eukaryotes\n",
        "\n",
        "Annotation approaches vary based on the type of organism, with specific gene models suited to either prokaryotic or eukaryotic genomes. For prokaryotes, specialized annotation tools are essential to capture their unique genomic features, such as densely packed genes and operons, which differ significantly from the complex structures found in eukaryotic genomes. Certain annotators are designed exclusively for prokaryotic genomes and SHOULD NOT be used for eukaryotes, as they lack the capacity to handle introns and the intricate regulatory regions characteristic of eukaryotic genes. Choosing the right annotation tool is crucial for accurate genome analysis and meaningful biological insights."
      ]
    },
    {
      "cell_type": "markdown",
      "metadata": {
        "id": "6G6KhkR70ftC"
      },
      "source": [
        "**Lets annotate a prokaryote genome - Prokka**\n",
        "\n",
        "Prokka only handles prokaryotic genomes!!"
      ]
    },
    {
      "cell_type": "markdown",
      "source": [
        "Install ncbi-datasets to fetch genomes form Genbank"
      ],
      "metadata": {
        "id": "7rd9VFtFWzDJ"
      }
    },
    {
      "cell_type": "code",
      "source": [
        "!conda install conda-forge::ncbi-datasets-cli -y"
      ],
      "metadata": {
        "id": "m7q83YI-Zy6e"
      },
      "execution_count": null,
      "outputs": []
    },
    {
      "cell_type": "markdown",
      "source": [
        "Download a Xanthomonas oryzae genome. Unzip the file, create a new folder named \"genomes,\" and move the FASTA file containing the genome to the \"genomes\" folder."
      ],
      "metadata": {
        "id": "4I0fW_XbW8DE"
      }
    },
    {
      "cell_type": "code",
      "source": [
        "!datasets download genome accession GCF_004355885.3 --include genome,seq-report\n",
        "!unzip ncbi_dataset.zip\n",
        "!mkdir genomes\n",
        "!mv ncbi_dataset/data/GCF_004355885.3/*.fna genomes/"
      ],
      "metadata": {
        "id": "rhiJlc2wN_Oq"
      },
      "execution_count": null,
      "outputs": []
    },
    {
      "cell_type": "markdown",
      "source": [
        "Install prokka tool"
      ],
      "metadata": {
        "id": "aIlaK_P0XXuA"
      }
    },
    {
      "cell_type": "code",
      "execution_count": null,
      "metadata": {
        "id": "-aqzz1W7x2QP"
      },
      "outputs": [],
      "source": [
        "!conda install -c bioconda prokka -y"
      ]
    },
    {
      "cell_type": "markdown",
      "metadata": {
        "id": "vennVupwzjpe"
      },
      "source": [
        "Run prokka to annotate the Xathomonas oryzae genome"
      ]
    },
    {
      "cell_type": "code",
      "execution_count": null,
      "metadata": {
        "id": "fZ9KhFPaxyS-"
      },
      "outputs": [],
      "source": [
        "!prokka --locustag xoo --outdir prokka_results genomes/GCF_004355885.3_ASM435588v3_genomic.fna"
      ]
    },
    {
      "cell_type": "markdown",
      "source": [
        "Your results will be saved in prokka_results. This folder contains sevreal files with the gene predictions, protein sequences, funational annotation , genbank file, anf gff file."
      ],
      "metadata": {
        "id": "PcP0hOSPXjZw"
      }
    },
    {
      "cell_type": "markdown",
      "metadata": {
        "id": "1gQrM4wQy9l-"
      },
      "source": [
        "**Lets annotatte a Eukaryte genome - Augutus**\n",
        "\n",
        "Augustus is an annotator that can handle both eukaryotic and prokaryotic genomes"
      ]
    },
    {
      "cell_type": "markdown",
      "source": [
        "Download a fungal genome, Fusarium oxysporum. Unzip the file, create a new folder named \"genomes,\" and move the FASTA file containing the genome to the \"genomes\" folder."
      ],
      "metadata": {
        "id": "_-16TSaaYBhx"
      }
    },
    {
      "cell_type": "code",
      "source": [
        "!datasets download genome accession GCA_013085055.1 --include genome,seq-report"
      ],
      "metadata": {
        "id": "BJJyySrbdD5a"
      },
      "execution_count": null,
      "outputs": []
    },
    {
      "cell_type": "code",
      "source": [
        "!unzip -o ncbi_dataset.zip"
      ],
      "metadata": {
        "id": "OBnV_AtDdUg0"
      },
      "execution_count": null,
      "outputs": []
    },
    {
      "cell_type": "code",
      "source": [
        "!cp ncbi_dataset/data/GCA_013085055.1/*.fna genomes/"
      ],
      "metadata": {
        "id": "HL4KNByTdbMa"
      },
      "execution_count": null,
      "outputs": []
    },
    {
      "cell_type": "markdown",
      "source": [
        "Install Augutus annotation tool"
      ],
      "metadata": {
        "id": "PMJ3nNaEYvar"
      }
    },
    {
      "cell_type": "code",
      "execution_count": null,
      "metadata": {
        "id": "-FoIHdtRngrB"
      },
      "outputs": [],
      "source": [
        "!apt-get update\n",
        "!apt-get install augustus"
      ]
    },
    {
      "cell_type": "markdown",
      "source": [
        "Run Augutus"
      ],
      "metadata": {
        "id": "bF2PdfBjYytq"
      }
    },
    {
      "cell_type": "code",
      "execution_count": null,
      "metadata": {
        "id": "QmPLpy0CnzKF"
      },
      "outputs": [],
      "source": [
        "!augustus --species=fusarium --codingseq=on --protein=on genomes/GCA_013085055.1_ASM1308505v1_genomic.fna > augutus_annot.gff"
      ]
    },
    {
      "cell_type": "markdown",
      "source": [
        "Augutus will oproduce a gff file that contain sthe structurla annotation. This gff file cna be use to extrcta the gene and protein sequences."
      ],
      "metadata": {
        "id": "sfuphDBCY1E1"
      }
    },
    {
      "cell_type": "code",
      "execution_count": null,
      "metadata": {
        "id": "L14oU-d6GJG3"
      },
      "outputs": [],
      "source": [
        "!perl /usr/share/augustus/scripts/getAnnoFasta.pl augutus_annot.gff"
      ]
    },
    {
      "cell_type": "markdown",
      "source": [
        "Check the number of protein and genes"
      ],
      "metadata": {
        "id": "QfgsNSN7Y-5c"
      }
    },
    {
      "cell_type": "code",
      "execution_count": null,
      "metadata": {
        "id": "AQOOvqfx_l_u"
      },
      "outputs": [],
      "source": [
        "!grep -c '>' augutus_annot.aa\n",
        "!grep -c '>' augutus_annot.codingseq"
      ]
    }
  ],
  "metadata": {
    "colab": {
      "provenance": []
    },
    "kernelspec": {
      "display_name": "Python 3 (ipykernel)",
      "language": "python",
      "name": "python3"
    },
    "language_info": {
      "codemirror_mode": {
        "name": "ipython",
        "version": 3
      },
      "file_extension": ".py",
      "mimetype": "text/x-python",
      "name": "python",
      "nbconvert_exporter": "python",
      "pygments_lexer": "ipython3",
      "version": "3.9.15"
    }
  },
  "nbformat": 4,
  "nbformat_minor": 0
}
